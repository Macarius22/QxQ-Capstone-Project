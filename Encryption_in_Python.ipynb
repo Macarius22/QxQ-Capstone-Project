{
  "nbformat": 4,
  "nbformat_minor": 0,
  "metadata": {
    "colab": {
      "provenance": []
    },
    "kernelspec": {
      "name": "python3",
      "display_name": "Python 3"
    },
    "language_info": {
      "name": "python"
    }
  },
  "cells": [
    {
      "cell_type": "markdown",
      "source": [
        "# **Coding Project: Encryption in Python**\n",
        "---\n",
        "\n",
        "### **Description**\n",
        "In this project, you will be writing code to encrypt and decrypt a message of your choice using a key generated through QKD.\n",
        "\n",
        "<br>"
      ],
      "metadata": {
        "id": "bKxy5QMFjWGo"
      }
    },
    {
      "cell_type": "markdown",
      "source": [
        "# **Importing cirq the main library in our project**"
      ],
      "metadata": {
        "id": "bC3j3-ZboMkI"
      }
    },
    {
      "cell_type": "code",
      "source": [
        "!pip install cirq\n",
        "import cirq"
      ],
      "metadata": {
        "id": "0Mcry7PwkvAa"
      },
      "execution_count": null,
      "outputs": []
    },
    {
      "cell_type": "markdown",
      "source": [
        "**importing Random Library**\n",
        "\n",
        "**defining the QKD function**"
      ],
      "metadata": {
        "id": "i6X_brmLoYT8"
      }
    },
    {
      "cell_type": "code",
      "source": [
        "\n",
        "\n",
        "from random import choices\n",
        "def QKD(num_bits):\n",
        "  #Setup\n",
        "  encode_gates = {0: cirq.I, 1: cirq.X}\n",
        "  basis_gates = {'Z': cirq.I, 'X': cirq.H}\n",
        "\n",
        "  qubits = cirq.NamedQubit.range(num_bits, prefix = 'q')\n",
        "\n",
        "  #Alice Chooses Bits and Bases\n",
        "  alice_key = choices([0, 1], k = num_bits)\n",
        "  alice_bases = choices(['Z', 'X'], k = num_bits)\n",
        "\n",
        "  #Alice Creates Qubits\n",
        "  alice_circuit = cirq.Circuit()\n",
        "\n",
        "  for bit in range(num_bits):\n",
        "\n",
        "    encode_value = alice_key[bit]\n",
        "    encode_gate = encode_gates[encode_value]\n",
        "\n",
        "    basis_value = alice_bases[bit]\n",
        "    basis_gate = basis_gates[basis_value]\n",
        "\n",
        "    qubit = qubits[bit]\n",
        "    alice_circuit.append(encode_gate(qubit))\n",
        "    alice_circuit.append(basis_gate(qubit))\n",
        "\n",
        "  #Bob chooses a Bases\n",
        "  bob_bases = choices(['Z', 'X'], k = num_bits)\n",
        "\n",
        "  bob_circuit = cirq.Circuit()\n",
        "\n",
        "  for bit in range(num_bits):\n",
        "\n",
        "    basis_value = bob_bases[bit]\n",
        "    basis_gate = basis_gates[basis_value]\n",
        "\n",
        "    qubit = qubits[bit]\n",
        "    bob_circuit.append(basis_gate(qubit))\n",
        "\n",
        "  #Bob Measures Qubits\n",
        "  bob_circuit.append(cirq.measure(qubits, key = 'bob key'))\n",
        "\n",
        "  #Bob Creates a Key\n",
        "  bb84_circuit = alice_circuit + bob_circuit\n",
        "\n",
        "  sim = cirq.Simulator()\n",
        "  results = sim.run(bb84_circuit)\n",
        "  bob_key = results.measurements['bob key'][0]\n",
        "\n",
        "  final_alice_key = []\n",
        "  final_bob_key = []\n",
        "\n",
        "  #Compare Bases\n",
        "  for bit in range(num_bits):\n",
        "\n",
        "    if alice_bases[bit] == bob_bases[bit]:\n",
        "      final_alice_key.append(alice_key[bit])\n",
        "      final_bob_key.append(bob_key[bit])\n",
        "\n",
        "  #Compare Half their Bits\n",
        "  num_bits_to_compare = int(len(final_alice_key) * .5)\n",
        "  if final_alice_key[0:num_bits_to_compare] == final_bob_key[0:num_bits_to_compare]:\n",
        "    QKD.final_alice_key = final_alice_key[num_bits_to_compare:]\n",
        "    final_bob_key = final_bob_key[num_bits_to_compare:]\n",
        "\n",
        "    print('\\n\\nWe can use our keys!')\n",
        "    print('Alice Key: ', QKD.final_alice_key)\n",
        "    print('Bob Key: ', final_bob_key)\n",
        "    print('key length', len(final_bob_key))\n",
        "\n",
        "  else:\n",
        "    print('\\n\\nEve was listening, we need to use a different channel!')"
      ],
      "metadata": {
        "id": "P1FwDV7GQSiy"
      },
      "execution_count": 32,
      "outputs": []
    },
    {
      "cell_type": "markdown",
      "source": [
        "\n",
        "1. **Setup**:\n",
        "   - We define dictionaries `encode_gates` and `basis_gates` that map bit values and basis values to corresponding quantum gates.\n",
        "   - We create an array of qubits named `qubits` using `NamedQubit.range()` method, where each qubit is prefixed with 'q'.\n",
        "\n",
        "2. **Alice Chooses Bits and Bases**:\n",
        "   - Alice randomly chooses a bit string `alice_key` of length `num_bits` using `choices` function, representing her secret key.\n",
        "   - Alice randomly chooses a bit string `alice_bases` of length `num_bits` using `choices` function, representing the bases she will use to encode her qubits.\n",
        "\n",
        "3. **Alice Creates Qubits**:\n",
        "   - Alice initializes a quantum circuit `alice_circuit`.\n",
        "   - For each qubit, Alice selects an encoding gate and a basis gate based on the corresponding bit values from `alice_key` and `alice_bases`.\n",
        "   - Alice applies the encoding gate followed by the basis gate to each qubit in her circuit.\n",
        "\n",
        "4. **Bob Chooses Bases and Measures Qubits**:\n",
        "   - Bob randomly chooses a bit string `bob_bases` of length `num_bits`, representing the bases he will use to measure the qubits sent by Alice.\n",
        "   - Bob initializes a quantum circuit `bob_circuit`.\n",
        "   - For each qubit, Bob selects a basis gate based on the corresponding bit value from `bob_bases`.\n",
        "   - Bob applies the basis gate to each qubit in his circuit.\n",
        "\n",
        "5. **Bob Measures Qubits**:\n",
        "   - Bob performs measurements on the qubits using the bases specified in `bob_circuit`.\n",
        "   - Bob appends a measurement operation to `bob_circuit` using `cirq.measure()` to measure all qubits and obtain measurement results.\n",
        "\n",
        "6. **Bob Creates a Key**:\n",
        "   - Bob combines his circuit with Alice's circuit to create a combined circuit `bb84_circuit`.\n",
        "   - Bob simulates the combined circuit using a quantum simulator and obtains the measurement results.\n",
        "   - Bob extracts his final key by comparing his measurement results with Alice's bases and extracting matching bits.\n",
        "\n",
        "7. **Key Comparison**:\n",
        "   - Alice and Bob compare their bases and extract a final key by discarding bits where their bases do not match.\n",
        "   - They verify that they have a secure key by comparing a subset of their keys.\n",
        "\n",
        "8. **Output**:\n",
        "   - If the comparison is successful, the function prints the final Alice and Bob keys along with the key length.\n",
        "   - If the comparison fails, the function prints a message indicating potential eavesdropping.\n",
        "\n",
        "This function implements the Quantum Key Distribution (QKD) protocol based on the BB84 algorithm, allowing two parties (Alice and Bob) to establish a secure cryptographic key over an insecure channel, while detecting potential eavesdropping attempts."
      ],
      "metadata": {
        "id": "0tv0XXXSovcm"
      }
    },
    {
      "cell_type": "markdown",
      "source": [
        "### **Step 1**\n",
        "You will first need to create some data we would like to send."
      ],
      "metadata": {
        "id": "V6MnfKMnk3uR"
      }
    },
    {
      "cell_type": "code",
      "source": [
        "unencrypted_string = \"Thank you Qubit x Qubit.\""
      ],
      "metadata": {
        "id": "ewx6O2qXlY53"
      },
      "execution_count": 33,
      "outputs": []
    },
    {
      "cell_type": "markdown",
      "source": [
        "### **Step 2**\n",
        "Use the `QKD` function, defined above, to create a key for your data."
      ],
      "metadata": {
        "id": "3F0lspFulgT0"
      }
    },
    {
      "cell_type": "code",
      "source": [
        "QKD(60)"
      ],
      "metadata": {
        "id": "pw82euVmlgT0",
        "colab": {
          "base_uri": "https://localhost:8080/"
        },
        "outputId": "456b90d9-c94a-447f-dc7b-39f498b11a7a"
      },
      "execution_count": 34,
      "outputs": [
        {
          "output_type": "stream",
          "name": "stdout",
          "text": [
            "\n",
            "\n",
            "We can use our keys!\n",
            "Alice Key:  [1, 0, 1, 1, 0, 1, 0, 0, 1, 1, 1, 1, 0, 1, 0, 0]\n",
            "Bob Key:  [1, 0, 1, 1, 0, 1, 0, 0, 1, 1, 1, 1, 0, 1, 0, 0]\n",
            "key length 16\n"
          ]
        }
      ]
    },
    {
      "cell_type": "markdown",
      "source": [
        "### **Step 3**\n",
        "---\n",
        "You will need to create a function that can now ecrypt your message using your key. You may import from any python libraries you like to define this function."
      ],
      "metadata": {
        "id": "N44Lm949l9R7"
      }
    },
    {
      "cell_type": "code",
      "source": [
        "def encrypt_message(message, key):\n",
        "  \"\"\"\n",
        "  Encrypts a text message using XOR with a shared secret key.\n",
        "\n",
        "  Args:\n",
        "      message: The text message to encrypt (string).\n",
        "      key: The shared secret key (binary string).\n",
        "\n",
        "  Returns:\n",
        "      The encrypted message (string).\n",
        "  \"\"\"\n",
        "  # Convert message to binary string (ASCII)\n",
        "  binary_message = ''.join(format(ord(char), 'b').zfill(8) for char in message)\n",
        "\n",
        "  # Ensure key length matches message length (extend key if needed)\n",
        "  key = key * (len(binary_message) // len(key)) + key[:len(binary_message) % len(key)]\n",
        "\n",
        "  # XOR message with key\n",
        "  encrypted_binary = ''.join(str(int(a) ^ int(b)) for a, b in zip(binary_message, key))\n",
        "\n",
        "  # Convert encrypted binary to string\n",
        "  encrypted_message = ''.join(chr(int(encrypted_binary[i:i+8], 2)) for i in range(0, len(encrypted_binary), 8))\n",
        "\n",
        "  return encrypted_message"
      ],
      "metadata": {
        "id": "zjGC1PCHTFe0"
      },
      "execution_count": 35,
      "outputs": []
    },
    {
      "cell_type": "markdown",
      "source": [
        "Let's break down the `encrypt_message` function step by step:\n",
        "\n",
        "1. **Convert Message to Binary String**:\n",
        "   - The function converts the input text message into a binary string representation using ASCII encoding. Each character in the message is converted to its corresponding 8-bit binary representation, padded with leading zeros if necessary, and concatenated to form the binary message.\n",
        "\n",
        "2. **Ensure Key Length Matches Message Length**:\n",
        "   - The function ensures that the length of the key matches the length of the binary message. If the key is shorter than the message, it is repeated to match the length of the message. If the key is longer than the message, it is truncated to match the length of the message.\n",
        "\n",
        "3. **XOR Operation**:\n",
        "   - The function performs a bitwise XOR (exclusive OR) operation between each bit of the binary message and the corresponding bit of the key. This operation combines the bits of the message and the key to produce the encrypted binary message.\n",
        "\n",
        "4. **Convert Encrypted Binary to String**:\n",
        "   - The encrypted binary message is converted back to a string representation by grouping the binary digits into chunks of 8 bits (1 byte) and converting each chunk into its corresponding ASCII character. The resulting characters are concatenated to form the encrypted message.\n",
        "\n",
        "5. **Return Encrypted Message**:\n",
        "   - The function returns the encrypted message as a string.\n",
        "\n",
        "\n",
        "This function provides a simple form of encryption using XOR with a shared secret key. While it may not be as secure as modern encryption algorithms like AES, it demonstrates the basic principles of symmetric encryption."
      ],
      "metadata": {
        "id": "J_M1BGJppIWV"
      }
    },
    {
      "cell_type": "markdown",
      "source": [
        "### **Step 4**\n",
        "\n",
        "You will need to create a function that can now decrypt your message using your key. You may import from any python libraries you like to define this function."
      ],
      "metadata": {
        "id": "AJwhQ7yUmwOy"
      }
    },
    {
      "cell_type": "code",
      "source": [
        "def decrypt_message(encrypted_message, key):\n",
        "  \"\"\"\n",
        "  Decrypts an encrypted message using XOR with the shared secret key.\n",
        "\n",
        "  Args:\n",
        "      encrypted_message: The encrypted message (string).\n",
        "      key: The shared secret key (binary string).\n",
        "\n",
        "  Returns:\n",
        "      The decrypted message (string).\n",
        "  \"\"\"\n",
        "  # Convert encrypted message to binary string\n",
        "  binary_message = ''.join(format(ord(char), 'b').zfill(8) for char in encrypted_message)\n",
        "\n",
        "  # Ensure key length matches message length (extend key if needed)\n",
        "  key = key * (len(binary_message) // len(key)) + key[:len(binary_message) % len(key)]\n",
        "\n",
        "  # XOR encrypted message with key\n",
        "  decrypted_binary = ''.join(str(int(a) ^ int(b)) for a, b in zip(binary_message, key))\n",
        "\n",
        "  # Convert decrypted binary to string\n",
        "  decrypted_message = ''.join(chr(int(decrypted_binary[i:i+8], 2)) for i in range(0, len(decrypted_binary), 8))\n",
        "\n",
        "  return decrypted_message"
      ],
      "metadata": {
        "id": "P6rRL4JlTHfb"
      },
      "execution_count": 36,
      "outputs": []
    },
    {
      "cell_type": "markdown",
      "source": [
        "Let's break down the `decrypt_message` function step by step:\n",
        "\n",
        "1. **Convert Encrypted Message to Binary String**:\n",
        "   - The function converts the input encrypted message into a binary string representation using ASCII encoding. Each character in the encrypted message is converted to its corresponding 8-bit binary representation, padded with leading zeros if necessary, and concatenated to form the binary message.\n",
        "\n",
        "2. **Ensure Key Length Matches Message Length**:\n",
        "   - Similar to encryption, the function ensures that the length of the key matches the length of the binary message. If the key is shorter than the message, it is repeated to match the length of the message. If the key is longer than the message, it is truncated to match the length of the message.\n",
        "\n",
        "3. **XOR Operation**:\n",
        "   - The function performs a bitwise XOR (exclusive OR) operation between each bit of the binary message and the corresponding bit of the key. This operation reverses the encryption process, recovering the original binary message.\n",
        "\n",
        "4. **Convert Decrypted Binary to String**:\n",
        "   - The decrypted binary message is converted back to a string representation by grouping the binary digits into chunks of 8 bits (1 byte) and converting each chunk into its corresponding ASCII character. The resulting characters are concatenated to form the decrypted message.\n",
        "\n",
        "5. **Return Decrypted Message**:\n",
        "   - The function returns the decrypted message as a string.\n",
        "\n",
        "Here's the code with comments explaining each step:\n",
        "\n",
        "This function provides the decryption counterpart to the `encrypt_message` function, allowing the decryption of messages encrypted using XOR with a shared secret key."
      ],
      "metadata": {
        "id": "Oa1e3ApLpeD9"
      }
    },
    {
      "cell_type": "markdown",
      "source": [
        "### **Step 5**\n",
        "---\n",
        "Write code to encrypt and decrypt your message using your key to ensure that you were successful."
      ],
      "metadata": {
        "id": "XwJqT-JTnBdS"
      }
    },
    {
      "cell_type": "code",
      "execution_count": 37,
      "metadata": {
        "id": "eKlKbyIll9SH",
        "colab": {
          "base_uri": "https://localhost:8080/"
        },
        "outputId": "c3400859-909f-430a-80fa-5d38cda1ba97"
      },
      "outputs": [
        {
          "output_type": "stream",
          "name": "stdout",
          "text": [
            "Encrypted message: àÕßÔÍÁÔåÖÀÔÖ¥ÁÝ\n",
            "Decrypted message: Thank you Qubit by Qubit\n"
          ]
        }
      ],
      "source": [
        "key = QKD.final_alice_key\n",
        "\n",
        "encrypted_message = encrypt_message(unencrypted_string, key)\n",
        "print(\"Encrypted message:\", encrypted_message)\n",
        "\n",
        "decrypted_message = decrypt_message(encrypted_message, key)\n",
        "print(\"Decrypted message:\", decrypted_message)\n"
      ]
    },
    {
      "cell_type": "markdown",
      "source": [
        "# End of Notebook\n",
        "\n",
        "---\n",
        "© 2024 The Coding School, All rights reserved"
      ],
      "metadata": {
        "id": "NGJhb6stUYCp"
      }
    }
  ]
}